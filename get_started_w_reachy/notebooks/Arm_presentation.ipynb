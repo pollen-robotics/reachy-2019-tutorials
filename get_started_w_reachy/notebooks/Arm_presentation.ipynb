{
 "cells": [
  {
   "cell_type": "markdown",
   "metadata": {},
   "source": [
    "## Reachy's arms"
   ]
  },
  {
   "cell_type": "markdown",
   "metadata": {},
   "source": [
    "In this notebook you will learn how to use Reachy's SDK to control Reachy's arms!"
   ]
  },
  {
   "cell_type": "code",
   "execution_count": 1,
   "metadata": {},
   "outputs": [],
   "source": [
    "from reachy_sdk import ReachySDK"
   ]
  },
  {
   "cell_type": "markdown",
   "metadata": {},
   "source": [
    "Next you need to connect to your Reachy. You will use *ReachySDK* for that.\n",
    "The *ReachySDK* object takes three arguments at init, one of them is *host* (you don't need to worry about the others).\n",
    "\n",
    "If you're working directly on Reachy, use \n",
    "```python\n",
    "host='localhost'\n",
    "```\n",
    "If not, just get Reachy's IP address with\n",
    "```bash\n",
    "$ ifconfig\n",
    "```\n",
    "and put this addreess in the *host* argument."
   ]
  },
  {
   "cell_type": "code",
   "execution_count": 2,
   "metadata": {},
   "outputs": [],
   "source": [
    "reachy = ReachySDK(host='192.168.0.23')"
   ]
  },
  {
   "cell_type": "markdown",
   "metadata": {},
   "source": [
    "You can use ReachySDK from any computer, as long as it and Reachy are connected to the same network. "
   ]
  },
  {
   "cell_type": "markdown",
   "metadata": {},
   "source": [
    "With this Reachy object, you can access each joints."
   ]
  },
  {
   "cell_type": "code",
   "execution_count": 3,
   "metadata": {},
   "outputs": [
    {
     "data": {
      "text/plain": [
       "['r_shoulder_pitch',\n",
       " 'r_shoulder_roll',\n",
       " 'r_arm_yaw',\n",
       " 'r_elbow_pitch',\n",
       " 'r_forearm_yaw',\n",
       " 'r_wrist_pitch',\n",
       " 'r_wrist_roll',\n",
       " 'r_gripper',\n",
       " 'l_shoulder_pitch',\n",
       " 'l_shoulder_roll',\n",
       " 'l_arm_yaw',\n",
       " 'l_elbow_pitch',\n",
       " 'l_forearm_yaw',\n",
       " 'l_wrist_pitch',\n",
       " 'l_wrist_roll',\n",
       " 'l_gripper']"
      ]
     },
     "execution_count": 3,
     "metadata": {},
     "output_type": "execute_result"
    }
   ],
   "source": [
    "joints_names = [joint.name for joint in reachy.joints]\n",
    "joints_names"
   ]
  },
  {
   "cell_type": "markdown",
   "metadata": {},
   "source": [
    "You can check the name of each joint on the robot on the documentation: \n",
    "\n",
    "<img src=\"images/arm_schematic.png\" alt=\"drawing\" width=\"400\"/>"
   ]
  },
  {
   "cell_type": "code",
   "execution_count": 4,
   "metadata": {},
   "outputs": [],
   "source": [
    "right_joints = reachy.joints[:8]\n",
    "left_joints = reachy.joints[8:]"
   ]
  },
  {
   "cell_type": "markdown",
   "metadata": {},
   "source": [
    "### Check motors' positions"
   ]
  },
  {
   "cell_type": "markdown",
   "metadata": {},
   "source": [
    "Each motor's position can be checked with the *present_position* attribute. The value is given in degrees. "
   ]
  },
  {
   "cell_type": "code",
   "execution_count": 5,
   "metadata": {},
   "outputs": [
    {
     "name": "stdout",
     "output_type": "stream",
     "text": [
      "r_shoulder_pitch - position:-1.252747300508547\n",
      "r_shoulder_roll - position:-19.186812463529755\n",
      "r_arm_yaw - position:47.78021950860902\n",
      "r_elbow_pitch - position:-60.70329941829915\n",
      "r_forearm_yaw - position:-8.064516197381714\n",
      "r_wrist_pitch - position:-55.4285731336355\n",
      "r_wrist_roll - position:-7.184751120017283\n",
      "r_gripper - position:-29.472139910105376\n",
      "l_shoulder_pitch - position:26.26373709466734\n",
      "l_shoulder_roll - position:1.252747300508547\n",
      "l_arm_yaw - position:-5.846153997892082\n",
      "l_elbow_pitch - position:-68.70329508745999\n",
      "l_forearm_yaw - position:4.838709633051664\n",
      "l_wrist_pitch - position:-48.571428622063294\n",
      "l_wrist_roll - position:17.44867958392325\n",
      "l_gripper - position:-15.689149429194389\n"
     ]
    }
   ],
   "source": [
    "for joint in reachy.joints:\n",
    "    print(f'{joint.name} - position:{joint.present_position}')"
   ]
  },
  {
   "cell_type": "markdown",
   "metadata": {},
   "source": [
    "Before developping applications with Reachy, you should check the max positions Reachy can attain without harming itself. \n",
    "\n",
    "For example if you put Reachy on a table, it cannot have its arms straight at by it side. "
   ]
  },
  {
   "cell_type": "markdown",
   "metadata": {},
   "source": [
    "### Compliant / Stiff mode"
   ]
  },
  {
   "cell_type": "markdown",
   "metadata": {},
   "source": [
    "Each Reachy's motor can be in two modes: **compliant** and **stiff**.\n",
    "\n",
    "In the compliant mode, you can move the motor freely with your hands. \n",
    "\n",
    "In stiff mode, the motor will be \"blocked\" (trouver un autre mot) and can only be move using the *goal_position* attribute of each joint. Keep that in mind, if a joint does not move when you're changing its *goal_position*, it's very likely that it is in compliant mode."
   ]
  },
  {
   "cell_type": "markdown",
   "metadata": {},
   "source": [
    "For example, to move the right elbow pitch joint at 90° just type: \n",
    "```python\n",
    "reachy.r_elbow_pitch.compliant = False  #stiff mode\n",
    "reachy.r_elbow_pitch.goal_position = 90\n",
    "```"
   ]
  },
  {
   "cell_type": "markdown",
   "metadata": {},
   "source": [
    "Once you execute\n",
    "```python\n",
    "reachy.r_elbow_pitch.compliant = False\n",
    "```\n",
    "the right elbow pitch joint will stay in stiff mode until you put it in compliant mode, or turn off the power. You don't need to write this line everytime you want to send a goal position to the joint."
   ]
  },
  {
   "cell_type": "markdown",
   "metadata": {},
   "source": [
    "You can easily give instructions to an arm once you know that. For example, to put the left arm at a right angle position you can do the following."
   ]
  },
  {
   "cell_type": "code",
   "execution_count": 8,
   "metadata": {},
   "outputs": [],
   "source": [
    "def arm_stiff(arm):\n",
    "    for joint in arm:\n",
    "        joint.compliant = False\n",
    "\n",
    "right_angle_position = {\n",
    "    'r_shoulder_roll': 0,\n",
    "    'r_arm_yaw': 0,\n",
    "    'r_elbow_pitch': -90,\n",
    "    'r_forearm_yaw': 0,\n",
    "    'r_wrist_pitch': 0,\n",
    "    'r_wrist_roll': 0,\n",
    "    'r_gripper': 0,\n",
    "}\n",
    "\n",
    "arm_stiff(right_joints)"
   ]
  },
  {
   "cell_type": "code",
   "execution_count": 9,
   "metadata": {},
   "outputs": [],
   "source": [
    "from operator import attrgetter"
   ]
  },
  {
   "cell_type": "code",
   "execution_count": 10,
   "metadata": {},
   "outputs": [],
   "source": [
    "for name, goal in zip(right_angle_position.keys(), right_angle_position.values()):\n",
    "    joint = attrgetter(name)(reachy)\n",
    "    joint.goal_position = goal"
   ]
  },
  {
   "cell_type": "markdown",
   "metadata": {},
   "source": [
    "Don't forget to put the arm back into compliant mode! \n",
    "\n",
    "The motors will suffer if they are maintained in stiff mode in a position where the motor is sollicitated **(reformuler ça)**. Put your hand under the arm to prevent it from damaging when you turn it compliant."
   ]
  },
  {
   "cell_type": "code",
   "execution_count": 11,
   "metadata": {},
   "outputs": [],
   "source": [
    "def arm_compliant(arm):\n",
    "    for joint in arm:\n",
    "        joint.compliant = True"
   ]
  },
  {
   "cell_type": "code",
   "execution_count": 14,
   "metadata": {},
   "outputs": [],
   "source": [
    "arm_compliant(right_joints)"
   ]
  },
  {
   "cell_type": "markdown",
   "metadata": {},
   "source": [
    "### Check motors' temperatures"
   ]
  },
  {
   "cell_type": "markdown",
   "metadata": {},
   "source": [
    "You also have access to each motors temperatures with the *temperature* attribute of each joint. \n",
    "Check the temperatures when you play with Reachy to avoid damaging it. You should take a break from Reachy if the temperatures are above 45° (à comfirmer). \n",
    "\n",
    "Anyway, the fans in each arm should turn on if the temperatures hit 45°."
   ]
  },
  {
   "cell_type": "code",
   "execution_count": 17,
   "metadata": {},
   "outputs": [
    {
     "name": "stdout",
     "output_type": "stream",
     "text": [
      "r_shoulder_pitch - temp:34.0\n",
      "r_shoulder_roll - temp:35.0\n",
      "r_arm_yaw - temp:35.0\n",
      "r_elbow_pitch - temp:36.0\n",
      "r_forearm_yaw - temp:31.0\n",
      "r_wrist_pitch - temp:34.0\n",
      "r_wrist_roll - temp:32.0\n",
      "r_gripper - temp:32.0\n",
      "l_shoulder_pitch - temp:33.0\n",
      "l_shoulder_roll - temp:35.0\n",
      "l_arm_yaw - temp:35.0\n",
      "l_elbow_pitch - temp:34.0\n",
      "l_forearm_yaw - temp:31.0\n",
      "l_wrist_pitch - temp:33.0\n",
      "l_wrist_roll - temp:32.0\n",
      "l_gripper - temp:33.0\n"
     ]
    }
   ],
   "source": [
    "for joint in reachy.joints:\n",
    "    print(f'{joint.name} - temp:{joint.temperature}')"
   ]
  },
  {
   "cell_type": "markdown",
   "metadata": {},
   "source": [
    "### Motor's speed"
   ]
  },
  {
   "cell_type": "markdown",
   "metadata": {},
   "source": [
    "You can also change the speed limit of each motors with the *speed_limit* attribute of each joint. It can be useful if you want to add safety to Reachy's movements.\n",
    "\n",
    "According to the motors documentation, the speed is in rpm (raw per minute).\n",
    "\n",
    "<img src=\"images/dynamixel_speed.png\" alt=\"drawing\" width=\"600\"/>\n",
    "\n",
    "\n",
    "\n",
    "source: https://emanual.robotis.com/docs/en/dxl/ax/ax-18a/#ccw-angle-limit"
   ]
  },
  {
   "cell_type": "markdown",
   "metadata": {},
   "source": [
    "By default, we set each motor's speed to 0, meaning the maximum rpm of the motor is used without controlling the speed.\n",
    "\n",
    "For example if you want to set the speed limit of the right gripper to 300, just do the following:"
   ]
  },
  {
   "cell_type": "code",
   "execution_count": 47,
   "metadata": {},
   "outputs": [],
   "source": [
    "reachy.r_gripper.speed_limit = 300"
   ]
  },
  {
   "cell_type": "code",
   "execution_count": null,
   "metadata": {},
   "outputs": [],
   "source": []
  }
 ],
 "metadata": {
  "kernelspec": {
   "display_name": "Python 3",
   "language": "python",
   "name": "python3"
  },
  "language_info": {
   "codemirror_mode": {
    "name": "ipython",
    "version": 3
   },
   "file_extension": ".py",
   "mimetype": "text/x-python",
   "name": "python",
   "nbconvert_exporter": "python",
   "pygments_lexer": "ipython3",
   "version": "3.9.1"
  }
 },
 "nbformat": 4,
 "nbformat_minor": 4
}
