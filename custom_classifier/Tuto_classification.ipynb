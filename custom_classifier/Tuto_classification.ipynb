{
 "cells": [
  {
   "cell_type": "code",
   "execution_count": 1,
   "metadata": {},
   "outputs": [],
   "source": [
    "%matplotlib notebook \n",
    "\n",
    "import numpy as np \n",
    "import matplotlib.pyplot as plt \n",
    "\n",
    "import cv2 as cv \n",
    "from PIL import Image \n",
    "\n",
    "import time\n",
    "\n",
    "from reachy import Reachy, parts\n",
    "\n",
    "from pycoral.adapters import classify, common\n",
    "from pycoral.utils.edgetpu import make_interpreter\n",
    "from pycoral.utils.dataset import read_label_file"
   ]
  },
  {
   "cell_type": "code",
   "execution_count": 2,
   "metadata": {},
   "outputs": [],
   "source": [
    "reachy = Reachy(\n",
    "    head=parts.Head(io='/dev/ttyUSB*'),\n",
    ")"
   ]
  },
  {
   "cell_type": "code",
   "execution_count": 3,
   "metadata": {},
   "outputs": [],
   "source": [
    "path_model = '/home/pi/dev/reachy-tictactoe/reachy_tictactoe/models/ttt_classif.tflite'\n",
    "path_label = '/home/pi/dev/reachy-tictactoe/reachy_tictactoe/models/ttt_classif.txt'"
   ]
  },
  {
   "cell_type": "code",
   "execution_count": null,
   "metadata": {},
   "outputs": [],
   "source": [
    "interpreter = make_interpreter(path_model)\n",
    "interpreter.allocate_tensors()\n",
    "\n",
    "labels = read_label_file(path_label)\n",
    "\n",
    "size = common.input_size(interpreter)"
   ]
  },
  {
   "cell_type": "code",
   "execution_count": 33,
   "metadata": {},
   "outputs": [],
   "source": [
    "board_cases = np.array((\n",
    "    ((293, 395, 363, 450),\n",
    "     (395, 492, 363, 450),\n",
    "     (492, 590, 363, 450),),\n",
    "\n",
    "    ((279, 388, 450, 550),\n",
    "     (388, 498, 450, 550),\n",
    "     (498, 605, 450, 550),),\n",
    "\n",
    "    ((258, 379, 550, 675),\n",
    "     (379, 503, 550, 675),\n",
    "     (503, 625, 550, 675),),\n",
    "))\n",
    "\n",
    "# left, right, top, bottom\n",
    "board_rect = np.array((\n",
    "    129, 741, 374, 710,\n",
    "))"
   ]
  },
  {
   "cell_type": "code",
   "execution_count": 6,
   "metadata": {},
   "outputs": [],
   "source": [
    "im = reachy.head.get_image()\n",
    "height, width = np.shape(im)[:2]"
   ]
  },
  {
   "cell_type": "code",
   "execution_count": 34,
   "metadata": {},
   "outputs": [],
   "source": [
    "video = cv.VideoWriter('tuto_classification.avi',cv.VideoWriter_fourcc('M','J','P','G'), 10, (width,height))\n",
    "\n",
    "reachy.head.compliant = False \n",
    "time.sleep(0.1)\n",
    "\n",
    "reachy.head.look_at(0.5, 0, -0.34, duration=1, wait=True)\n",
    "\n",
    "start = time.time()\n",
    "\n",
    "fps_count = 0\n",
    "\n",
    "while time.time() - start < 15:\n",
    "    \n",
    "    im = reachy.head.get_image()\n",
    "    out = im.copy()\n",
    "\n",
    "    for row in range(3):\n",
    "        for col in range(3):\n",
    "            lx, rx, ly, ry = board_cases[row, col]\n",
    "            pil_img = Image.fromarray(out[ly:ry, lx:rx]).convert('RGB').resize(size, Image.ANTIALIAS)\n",
    "            tic = time.time()\n",
    "            result = classify.get_classes(interpreter, top_k=1, score_threshold=0.1)\n",
    "            label = labels.get(res[0].id)\n",
    "            cv.putText(out, label, (int((lx+rx)/2)-30, int((ly+ry)/2)), cv.FONT_HERSHEY_SIMPLEX, 0.75, (255,0,0), 2)\n",
    "            cv.rectangle(out, (lx, ly), (rx, ry), (0, 255, 0), 5)\n",
    "    video.write(out)        \n",
    "            \n",
    "video.release()\n",
    "\n",
    "reachy.head.look_at(0.5, 0, 0, duration=1, wait=True)\n",
    "time.sleep(0.2)\n",
    "reachy.head.compliant = True"
   ]
  },
  {
   "cell_type": "code",
   "execution_count": null,
   "metadata": {},
   "outputs": [],
   "source": []
  }
 ],
 "metadata": {
  "kernelspec": {
   "display_name": "Python 3",
   "language": "python",
   "name": "python3"
  },
  "language_info": {
   "codemirror_mode": {
    "name": "ipython",
    "version": 3
   },
   "file_extension": ".py",
   "mimetype": "text/x-python",
   "name": "python",
   "nbconvert_exporter": "python",
   "pygments_lexer": "ipython3",
   "version": "3.8.5"
  }
 },
 "nbformat": 4,
 "nbformat_minor": 4
}
